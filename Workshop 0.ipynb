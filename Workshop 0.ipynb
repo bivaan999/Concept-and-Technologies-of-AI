{
 "cells": [
  {
   "cell_type": "code",
   "execution_count": 6,
   "id": "bc66df7b-3d73-4096-a7ca-538af73448f8",
   "metadata": {},
   "outputs": [
    {
     "name": "stdout",
     "output_type": "stream",
     "text": [
      "TASK 1\n",
      "The mild temperatures =  [14.1, 13.5, 13.0, 12.9, 13.3, 14.0, 13.4, 14.2, 12.8, 13.7, 13.6, 13.8, 13.9, 12.7, 13.1, 12.5]\n",
      "The cold temperatures =  [8.2, 7.9, 9.0, 8.5, 7.7, 8.4, 9.5, 8.1, 7.6, 8.0, 7.8, 8.7, 9.2, 8.3, 8.9, 7.8]\n",
      "The comfortable temperatures =  [17.4, 18.0, 17.8, 16.5, 17.2, 16.7, 18.3, 17.9, 17.0, 16.8, 17.5, 17.1, 18.1, 16.4, 18.2, 16.6]\n",
      "Mild temperatures in Fahrenheit =  [57.379999999999995, 56.3, 55.4, 55.22, 55.94, 57.2, 56.120000000000005, 57.56, 55.04, 56.66, 56.48, 56.84, 57.02, 54.86, 55.58, 54.5]\n",
      "Cold temperatures in Fahrenheit =  [46.76, 46.22, 48.2, 47.3, 45.86, 47.120000000000005, 49.1, 46.58, 45.68, 46.4, 46.04, 47.66, 48.56, 46.94, 48.02, 46.04]\n",
      "Comfortable temperatures in Fahrenheit =  [63.32, 64.4, 64.04, 61.7, 62.959999999999994, 62.059999999999995, 64.94, 64.22, 62.6, 62.24, 63.5, 62.78, 64.58, 61.519999999999996, 64.75999999999999, 61.88]\n",
      "The cold time =  16\n",
      "The mild time =  16\n",
      "The comfortable time =  16\n",
      "The total temperatures in Fahrenheit =  [57.379999999999995, 56.3, 55.4, 55.22, 55.94, 57.2, 56.120000000000005, 57.56, 55.04, 56.66, 56.48, 56.84, 57.02, 54.86, 55.58, 54.5, 46.76, 46.22, 48.2, 47.3, 45.86, 47.120000000000005, 49.1, 46.58, 45.68, 46.4, 46.04, 47.66, 48.56, 46.94, 48.02, 46.04, 63.32, 64.4, 64.04, 61.7, 62.959999999999994, 62.059999999999995, 64.94, 64.22, 62.6, 62.24, 63.5, 62.78, 64.58, 61.519999999999996, 64.75999999999999, 61.88]\n",
      "Night (00-08): [57.379999999999995, 56.3, 55.4, 55.22, 55.94, 57.2, 56.120000000000005, 57.56]\n",
      "Evening (08-16): [55.04, 56.66, 56.48, 56.84, 57.02, 54.86, 55.58, 54.5]\n",
      "Day (16-24): [46.76, 46.22, 48.2, 47.3, 45.86, 47.120000000000005, 49.1, 46.58, 45.68, 46.4, 46.04, 47.66, 48.56, 46.94, 48.02, 46.04, 63.32, 64.4, 64.04, 61.7, 62.959999999999994, 62.059999999999995, 64.94, 64.22, 62.6, 62.24, 63.5, 62.78, 64.58, 61.519999999999996, 64.75999999999999, 61.88]\n",
      "The average temperature during the day time is =  55.124375\n"
     ]
    }
   ],
   "source": [
    "temperatures = [8.2, 17.4, 14.1, 7.9, 18.0, 13.5, 9.0, 17.8, 13.0, 8.5,\n",
    "16.5, 12.9, 7.7, 17.2, 13.3, 8.4, 16.7, 14.0, 9.5, 18.3, 13.4, 8.1,\n",
    "17.9, 14.2, 7.6, 17.0, 12.8, 8.0, 16.8, 13.7, 7.8, 17.5, 13.6, 8.7,\n",
    "17.1, 13.8, 9.2, 18.1, 13.9, 8.3, 16.4, 12.7, 8.9, 18.2, 13.1, 7.8,\n",
    "16.6, 12.5]\n",
    "\n",
    "print(\"WORKSHOP 0: Task1\")\n",
    "\n",
    "mild = []\n",
    "cold = []\n",
    "comfort = []\n",
    "\n",
    "for temp in temperatures:\n",
    "    if temp < 10:\n",
    "        cold.append(temp)\n",
    "    elif 10 <= temp < 15:\n",
    "        mild.append(temp)\n",
    "    elif 15 <= temp < 20:\n",
    "        comfort.append(temp)\n",
    "\n",
    "print(\"The mild temperatures = \", mild)\n",
    "print(\"The cold temperatures = \", cold)\n",
    "print(\"The comfortable temperatures = \", comfort)\n",
    "\n",
    "mild_fah = []\n",
    "cold_fah = []\n",
    "comfort_fah = []\n",
    "\n",
    "for t in mild:\n",
    "    fah = (t * 9/5) + 32  \n",
    "    mild_fah.append(fah)\n",
    "print(\"Mild temperatures in Fahrenheit = \", mild_fah)\n",
    "\n",
    "for c in cold:\n",
    "    fah = (c * 9/5) + 32  \n",
    "    cold_fah.append(fah)\n",
    "print(\"Cold temperatures in Fahrenheit = \", cold_fah)\n",
    "\n",
    "for com in comfort:\n",
    "    fah = (com * 9/5) + 32  \n",
    "    comfort_fah.append(fah)\n",
    "print(\"Comfortable temperatures in Fahrenheit = \", comfort_fah)\n",
    "\n",
    "print(\"The cold time = \", len(cold))\n",
    "print(\"The mild time = \", len(mild))\n",
    "print(\"The comfortable time = \", len(comfort))\n",
    "\n",
    "total = mild_fah + cold_fah + comfort_fah\n",
    "print(\"The total temperatures in Fahrenheit = \", total)\n",
    "\n",
    "night = []\n",
    "evening = []\n",
    "day = []\n",
    "\n",
    "for i in range(len(total)):\n",
    "    if i < 8:\n",
    "        night.append(total[i])\n",
    "    elif i < 16:\n",
    "        evening.append(total[i])\n",
    "    else:\n",
    "        day.append(total[i])\n",
    "\n",
    "print(\"Night (00-08):\", night)\n",
    "print(\"Evening (08-16):\", evening)\n",
    "print(\"Day (16-24):\", day)\n",
    "\n",
    "avg_temper = sum(day) / len(day)\n",
    "print(\"The average temperature during the day time is = \", avg_temper)\n"
   ]
  },
  {
   "cell_type": "code",
   "execution_count": 2,
   "id": "70aec872-691c-46de-be7e-a02fa4e3b355",
   "metadata": {},
   "outputs": [
    {
     "name": "stdout",
     "output_type": "stream",
     "text": [
      "TASK 2 RECURSION\n",
      "['bac', 'abc', 'bca', 'acb', 'cba', 'cab']\n",
      "['aba', 'aab', 'baa']\n"
     ]
    }
   ],
   "source": [
    "print(\"Task2 RECURSION\")\n",
    "def generate_permutations(s):\n",
    "    if len(s) <= 1:\n",
    "        return [s]\n",
    "    permutations = []\n",
    "    for i, char in enumerate(s):\n",
    "        remaining_chars = s[:i] + s[i+1:]\n",
    "        for sub_permutation in generate_permutations(remaining_chars):\n",
    "            permutations.append(char + sub_permutation)\n",
    "    return list(set(permutations))\n",
    "\n",
    "print(generate_permutations(\"abc\"))\n",
    "print(generate_permutations(\"aab\"))\n"
   ]
  },
  {
   "cell_type": "code",
   "execution_count": 1,
   "id": "58ddec8a-d9ab-45d5-9812-a12faa58b489",
   "metadata": {},
   "outputs": [
    {
     "name": "stdout",
     "output_type": "stream",
     "text": [
      "TASK 3 RECURSION\n",
      "1400\n"
     ]
    }
   ],
   "source": [
    "print(\"Task3 RECURSION\")\n",
    "def calculate_directory_size(directory):\n",
    "    total_size = 0\n",
    "\n",
    "    for key, value in directory.items():\n",
    "        if isinstance(value, dict):\n",
    "            total_size += calculate_directory_size(value)\n",
    "        else:\n",
    "            total_size += value\n",
    "\n",
    "    return total_size\n",
    "\n",
    "directory_structure = {\n",
    "    \"file1.txt\": 200,\n",
    "    \"file2.txt\": 300,\n",
    "    \"subdir1\": {\n",
    "        \"file3.txt\": 400,\n",
    "        \"file4.txt\": 100\n",
    "    },\n",
    "    \"subdir2\": {\n",
    "        \"subsubdir1\": {\n",
    "            \"file5.txt\": 250\n",
    "        },\n",
    "        \"file6.txt\": 150\n",
    "    }\n",
    "}\n",
    "\n",
    "print(calculate_directory_size(directory_structure))"
   ]
  },
  {
   "cell_type": "code",
   "execution_count": 4,
   "id": "f8b116ca-3c65-4bdc-85ad-8ac2dcb805fe",
   "metadata": {},
   "outputs": [
    {
     "name": "stdout",
     "output_type": "stream",
     "text": [
      "TASK 1 DYNAMIC PROGRAMMING\n",
      "Minimum coins required: 3\n"
     ]
    }
   ],
   "source": [
    "print(\"TASK 1 DYNAMIC PROGRAMMING\")\n",
    "def min_coins(coins, amount):\n",
    "    dp = [float('inf')] * (amount + 1)\n",
    "    dp[0] = 0\n",
    "    \n",
    "    for i in range(1, amount + 1):\n",
    "        for coin in coins:\n",
    "            if coin <= i:\n",
    "                dp[i] = min(dp[i], dp[i - coin] + 1)\n",
    "    \n",
    "    return dp[amount] if dp[amount] != float('inf') else -1\n",
    "\n",
    "coins = [1, 2, 5]\n",
    "amount = 11\n",
    "result = min_coins(coins, amount)\n",
    "print(\"Minimum coins required:\", result)"
   ]
  },
  {
   "cell_type": "code",
   "execution_count": 3,
   "id": "ed85318b-2631-45d2-b85f-a68fa23f57d6",
   "metadata": {},
   "outputs": [
    {
     "name": "stdout",
     "output_type": "stream",
     "text": [
      "TASK 2 DYNAMIC PROGRAMMING\n",
      "3\n"
     ]
    }
   ],
   "source": [
    "print(\"TASK 2 DYNAMIC PROGRAMMING\")\n",
    "\n",
    "def longestcommon_subsequence(s1, s2):\n",
    "    dp = [[0] * (len(s2) + 1) for _ in range(len(s1) + 1)]\n",
    "    \n",
    "    for i in range(1, len(s1) + 1):\n",
    "        for j in range(1, len(s2) + 1):\n",
    "            if s1[i - 1] == s2[j - 1]:\n",
    "                dp[i][j] = dp[i - 1][j - 1] + 1\n",
    "            else:\n",
    "                dp[i][j] = max(dp[i - 1][j], dp[i][j - 1])\n",
    "    \n",
    "    return dp[len(s1)][len(s2)]\n",
    "\n",
    "s1 = \"abcde\"\n",
    "s2 = \"ace\"\n",
    "print(longestcommon_subsequence(s1, s2))"
   ]
  },
  {
   "cell_type": "code",
   "execution_count": 5,
   "id": "f5d74ddb-e4e2-46aa-b1f0-d7f38d7fa261",
   "metadata": {},
   "outputs": [
    {
     "name": "stdout",
     "output_type": "stream",
     "text": [
      "TASK 3 DYNAMIC PROGRAMMING\n",
      "Maximum value: 9\n"
     ]
    }
   ],
   "source": [
    "print(\"TASK 3 DYNAMIC PROGRAMMING\")\n",
    "def knapsack(weights, values, capacity):\n",
    "    n = len(weights)\n",
    "    dp = [[0] * (capacity + 1) for _ in range(n + 1)]\n",
    "    \n",
    "    for i in range(1, n + 1):\n",
    "        for w in range(1, capacity + 1):\n",
    "            if weights[i - 1] <= w:\n",
    "                dp[i][w] = max(dp[i - 1][w], dp[i - 1][w - weights[i - 1]] + values[i - 1])\n",
    "            else:\n",
    "                dp[i][w] = dp[i - 1][w]\n",
    "    \n",
    "    return dp[n][capacity]\n",
    "\n",
    "weights = [1, 3, 4, 5]\n",
    "values = [1, 4, 5, 7]\n",
    "capacity = 7\n",
    "result = knapsack(weights, values, capacity)\n",
    "print(\"Maximum value:\", result)\n"
   ]
  },
  {
   "cell_type": "code",
   "execution_count": null,
   "id": "4b9249b6-d980-44a9-9e26-8e80ffeee3c7",
   "metadata": {},
   "outputs": [],
   "source": []
  }
 ],
 "metadata": {
  "kernelspec": {
   "display_name": "Python 3 (ipykernel)",
   "language": "python",
   "name": "python3"
  },
  "language_info": {
   "codemirror_mode": {
    "name": "ipython",
    "version": 3
   },
   "file_extension": ".py",
   "mimetype": "text/x-python",
   "name": "python",
   "nbconvert_exporter": "python",
   "pygments_lexer": "ipython3",
   "version": "3.13.0"
  }
 },
 "nbformat": 4,
 "nbformat_minor": 5
}
